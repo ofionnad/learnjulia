{
 "cells": [
  {
   "cell_type": "markdown",
   "metadata": {},
   "source": [
    "## Loops"
   ]
  },
  {
   "cell_type": "markdown",
   "metadata": {},
   "source": [
    "For and while loops!"
   ]
  },
  {
   "cell_type": "code",
   "execution_count": 1,
   "metadata": {},
   "outputs": [
    {
     "name": "stdout",
     "output_type": "stream",
     "text": [
      "1\n",
      "2\n",
      "3\n",
      "4\n",
      "5\n",
      "6\n",
      "7\n",
      "8\n",
      "9\n",
      "10\n"
     ]
    }
   ],
   "source": [
    "n = 0\n",
    "while n < 10\n",
    "    n += 1\n",
    "    println(n)\n",
    "end"
   ]
  },
  {
   "cell_type": "code",
   "execution_count": 2,
   "metadata": {},
   "outputs": [
    {
     "name": "stdout",
     "output_type": "stream",
     "text": [
      "1\n",
      "2\n",
      "3\n",
      "4\n",
      "5\n",
      "6\n",
      "7\n",
      "8\n",
      "9\n",
      "10\n"
     ]
    }
   ],
   "source": [
    "for n in 1:10\n",
    "    println(n)\n",
    "end"
   ]
  },
  {
   "cell_type": "markdown",
   "metadata": {},
   "source": [
    "can also use = or element sign instead of in above"
   ]
  },
  {
   "cell_type": "markdown",
   "metadata": {},
   "source": [
    "### make an addition table"
   ]
  },
  {
   "cell_type": "code",
   "execution_count": 8,
   "metadata": {},
   "outputs": [
    {
     "data": {
      "text/plain": [
       "5×5 Array{Float64,2}:\n",
       " 2.0  3.0  4.0  5.0   6.0\n",
       " 3.0  4.0  5.0  6.0   7.0\n",
       " 4.0  5.0  6.0  7.0   8.0\n",
       " 5.0  6.0  7.0  8.0   9.0\n",
       " 6.0  7.0  8.0  9.0  10.0"
      ]
     },
     "execution_count": 8,
     "metadata": {},
     "output_type": "execute_result"
    }
   ],
   "source": [
    "m,n = 5,5\n",
    "A = zeros(5,5)\n",
    "\n",
    "for i in 1:m\n",
    "    for j in 1:n\n",
    "        A[i,j] = i+j\n",
    "    end\n",
    "end\n",
    "A"
   ]
  },
  {
   "cell_type": "code",
   "execution_count": 12,
   "metadata": {},
   "outputs": [
    {
     "data": {
      "text/plain": [
       "5×5 Array{Float64,2}:\n",
       " 2.0  3.0  4.0  5.0   6.0\n",
       " 3.0  4.0  5.0  6.0   7.0\n",
       " 4.0  5.0  6.0  7.0   8.0\n",
       " 5.0  6.0  7.0  8.0   9.0\n",
       " 6.0  7.0  8.0  9.0  10.0"
      ]
     },
     "execution_count": 12,
     "metadata": {},
     "output_type": "execute_result"
    }
   ],
   "source": [
    "B = zeros(5,5)\n",
    "for i in 1:m, j in 1:n\n",
    "        B[i,j] = i+j\n",
    "end\n",
    "B"
   ]
  },
  {
   "cell_type": "code",
   "execution_count": 14,
   "metadata": {},
   "outputs": [
    {
     "data": {
      "text/plain": [
       "5×5 Array{Int64,2}:\n",
       " 2  3  4  5   6\n",
       " 3  4  5  6   7\n",
       " 4  5  6  7   8\n",
       " 5  6  7  8   9\n",
       " 6  7  8  9  10"
      ]
     },
     "execution_count": 14,
     "metadata": {},
     "output_type": "execute_result"
    }
   ],
   "source": [
    "# without pre initialisation\n",
    "C = [i+j for i in 1:m, j in 1:n]"
   ]
  },
  {
   "cell_type": "code",
   "execution_count": 15,
   "metadata": {},
   "outputs": [
    {
     "data": {
      "text/plain": [
       "1×5 Array{Int64,2}:\n",
       " 2  3  4  5  6"
      ]
     },
     "metadata": {},
     "output_type": "display_data"
    },
    {
     "data": {
      "text/plain": [
       "2×5 Array{Int64,2}:\n",
       " 2  3  4  5  6\n",
       " 3  4  5  6  7"
      ]
     },
     "metadata": {},
     "output_type": "display_data"
    },
    {
     "data": {
      "text/plain": [
       "3×5 Array{Int64,2}:\n",
       " 2  3  4  5  6\n",
       " 3  4  5  6  7\n",
       " 4  5  6  7  8"
      ]
     },
     "metadata": {},
     "output_type": "display_data"
    },
    {
     "data": {
      "text/plain": [
       "4×5 Array{Int64,2}:\n",
       " 2  3  4  5  6\n",
       " 3  4  5  6  7\n",
       " 4  5  6  7  8\n",
       " 5  6  7  8  9"
      ]
     },
     "metadata": {},
     "output_type": "display_data"
    },
    {
     "data": {
      "text/plain": [
       "5×5 Array{Int64,2}:\n",
       " 2  3  4  5   6\n",
       " 3  4  5  6   7\n",
       " 4  5  6  7   8\n",
       " 5  6  7  8   9\n",
       " 6  7  8  9  10"
      ]
     },
     "metadata": {},
     "output_type": "display_data"
    },
    {
     "data": {
      "text/plain": [
       "6×5 Array{Int64,2}:\n",
       " 2  3  4   5   6\n",
       " 3  4  5   6   7\n",
       " 4  5  6   7   8\n",
       " 5  6  7   8   9\n",
       " 6  7  8   9  10\n",
       " 7  8  9  10  11"
      ]
     },
     "metadata": {},
     "output_type": "display_data"
    },
    {
     "data": {
      "text/plain": [
       "7×5 Array{Int64,2}:\n",
       " 2  3   4   5   6\n",
       " 3  4   5   6   7\n",
       " 4  5   6   7   8\n",
       " 5  6   7   8   9\n",
       " 6  7   8   9  10\n",
       " 7  8   9  10  11\n",
       " 8  9  10  11  12"
      ]
     },
     "metadata": {},
     "output_type": "display_data"
    },
    {
     "data": {
      "text/plain": [
       "8×5 Array{Int64,2}:\n",
       " 2   3   4   5   6\n",
       " 3   4   5   6   7\n",
       " 4   5   6   7   8\n",
       " 5   6   7   8   9\n",
       " 6   7   8   9  10\n",
       " 7   8   9  10  11\n",
       " 8   9  10  11  12\n",
       " 9  10  11  12  13"
      ]
     },
     "metadata": {},
     "output_type": "display_data"
    },
    {
     "data": {
      "text/plain": [
       "9×5 Array{Int64,2}:\n",
       "  2   3   4   5   6\n",
       "  3   4   5   6   7\n",
       "  4   5   6   7   8\n",
       "  5   6   7   8   9\n",
       "  6   7   8   9  10\n",
       "  7   8   9  10  11\n",
       "  8   9  10  11  12\n",
       "  9  10  11  12  13\n",
       " 10  11  12  13  14"
      ]
     },
     "metadata": {},
     "output_type": "display_data"
    },
    {
     "data": {
      "text/plain": [
       "10×5 Array{Int64,2}:\n",
       "  2   3   4   5   6\n",
       "  3   4   5   6   7\n",
       "  4   5   6   7   8\n",
       "  5   6   7   8   9\n",
       "  6   7   8   9  10\n",
       "  7   8   9  10  11\n",
       "  8   9  10  11  12\n",
       "  9  10  11  12  13\n",
       " 10  11  12  13  14\n",
       " 11  12  13  14  15"
      ]
     },
     "metadata": {},
     "output_type": "display_data"
    }
   ],
   "source": [
    "for n in 1:10\n",
    "    A = [i+j for i in 1:n, j in 1:m]\n",
    "    display(A)\n",
    "end"
   ]
  },
  {
   "cell_type": "markdown",
   "metadata": {},
   "source": [
    "### If statements"
   ]
  },
  {
   "cell_type": "code",
   "execution_count": 23,
   "metadata": {},
   "outputs": [
    {
     "data": {
      "text/plain": [
       "50"
      ]
     },
     "execution_count": 23,
     "metadata": {},
     "output_type": "execute_result"
    }
   ],
   "source": [
    "x=5\n",
    "y=50"
   ]
  },
  {
   "cell_type": "code",
   "execution_count": 20,
   "metadata": {},
   "outputs": [
    {
     "name": "stdout",
     "output_type": "stream",
     "text": [
      "5 and 5 are equal\n"
     ]
    }
   ],
   "source": [
    "if x>y\n",
    "    println(\"$x is greater than $y\")\n",
    "elseif x<y\n",
    "    println(\"$y is greater than $x\")\n",
    "else\n",
    "    println(\"$x and $y are equal\")\n",
    "end"
   ]
  },
  {
   "cell_type": "code",
   "execution_count": 21,
   "metadata": {},
   "outputs": [
    {
     "data": {
      "text/plain": [
       "5"
      ]
     },
     "execution_count": 21,
     "metadata": {},
     "output_type": "execute_result"
    }
   ],
   "source": [
    "# return larger number\n",
    "if x>y\n",
    "    x\n",
    "elseif y>x\n",
    "    y\n",
    "else\n",
    "    x\n",
    "end\n"
   ]
  },
  {
   "cell_type": "markdown",
   "metadata": {},
   "source": [
    "### ternary operators\n",
    "\n",
    "a ? b : c\n",
    "\n",
    "where a is a conditional and b and c are outputs:"
   ]
  },
  {
   "cell_type": "code",
   "execution_count": 24,
   "metadata": {},
   "outputs": [
    {
     "data": {
      "text/plain": [
       "50"
      ]
     },
     "execution_count": 24,
     "metadata": {},
     "output_type": "execute_result"
    }
   ],
   "source": [
    "(x>y) ? x : y"
   ]
  },
  {
   "cell_type": "code",
   "execution_count": 25,
   "metadata": {},
   "outputs": [
    {
     "data": {
      "text/plain": [
       "false"
      ]
     },
     "execution_count": 25,
     "metadata": {},
     "output_type": "execute_result"
    }
   ],
   "source": [
    "# short circuit evaluation\n",
    "(x>y) && println(\"$x is greater than $y\")"
   ]
  },
  {
   "cell_type": "code",
   "execution_count": 26,
   "metadata": {},
   "outputs": [
    {
     "name": "stdout",
     "output_type": "stream",
     "text": [
      "50 is greater than 5\n"
     ]
    }
   ],
   "source": [
    "(x<y) && println(\"$y is greater than $x\")"
   ]
  },
  {
   "cell_type": "code",
   "execution_count": null,
   "metadata": {},
   "outputs": [],
   "source": []
  }
 ],
 "metadata": {
  "kernelspec": {
   "display_name": "Julia 1.2.0",
   "language": "julia",
   "name": "julia-1.2"
  },
  "language_info": {
   "file_extension": ".jl",
   "mimetype": "application/julia",
   "name": "julia",
   "version": "1.2.0"
  }
 },
 "nbformat": 4,
 "nbformat_minor": 2
}
